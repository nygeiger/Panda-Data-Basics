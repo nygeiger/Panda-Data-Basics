{
  "nbformat": 4,
  "nbformat_minor": 0,
  "metadata": {
    "colab": {
      "name": "HW01_NylesGeiger.ipynb",
      "provenance": [],
      "authorship_tag": "ABX9TyP7E7BidZdwEspEsSwHKKrk",
      "include_colab_link": true
    },
    "kernelspec": {
      "name": "python3",
      "display_name": "Python 3"
    },
    "language_info": {
      "name": "python"
    }
  },
  "cells": [
    {
      "cell_type": "markdown",
      "metadata": {
        "id": "view-in-github",
        "colab_type": "text"
      },
      "source": [
        "<a href=\"https://colab.research.google.com/github/nygeiger/Panda-Data-Basics/blob/main/HW01_NylesGeiger.ipynb\" target=\"_parent\"><img src=\"https://colab.research.google.com/assets/colab-badge.svg\" alt=\"Open In Colab\"/></a>"
      ]
    },
    {
      "cell_type": "markdown",
      "source": [
        "# CSC 4466 Computer Vision\n",
        "## Homework 1 - Data Basics\n",
        "### 2/9/2022\n",
        "### *** Nyles Geiger ***"
      ],
      "metadata": {
        "id": "f6Yrt5tvTh7p"
      }
    },
    {
      "cell_type": "code",
      "execution_count": 1,
      "metadata": {
        "id": "lHFE0F95TbfZ"
      },
      "outputs": [],
      "source": [
        "import numpy as np\n",
        "import matplotlib.pyplot as plt\n",
        "import pandas as pd"
      ]
    },
    {
      "cell_type": "code",
      "source": [
        "bank_df = pd.read_csv('https://drive.google.com/uc?export=download&id=1oQMcpoR3QC7w_sWIbtyid2N2j0o49_pk')"
      ],
      "metadata": {
        "id": "d-skd0zZUJQ4"
      },
      "execution_count": 2,
      "outputs": []
    },
    {
      "cell_type": "code",
      "source": [
        "bank_age_df = bank_df[\"age\"]\n",
        "bank_income_df = bank_df[\"income\"]\n",
        "bank_children_df = bank_df[\"income\"]\n",
        "print(\"5*****\")\n",
        "print(\"A:\")\n",
        "print(\"The min, max, and average age are: \" + str(bank_age_df.max()) + \", \" + str(bank_age_df.min()) + \", and \" + str(bank_age_df.mean()))\n",
        "print(\"The min, max, and average income are: \" + str(bank_income_df.max()) + \", \" + str(bank_income_df.min()) + \", and \" + str(bank_income_df.mean())) \n",
        "print(\"The min, max, and average children are: \" + str(bank_children_df.max()) + \", \" + str(bank_children_df.min()) + \", and \" + str(bank_children_df.mean()))\n",
        "print()\n",
        "print(\"B: \")\n",
        "print(str(len(bank_df[\"car\"] == \"YES\")) + \" customers have a car\")\n",
        "print()\n",
        "gender_bin = pd.get_dummies(bank_df[\"region\"], prefix=\"region\")\n",
        "print(\"C:\")\n",
        "print(bank_df.groupby(\"region\")[\"children\"].mean().reset_index().sort_values(\"children\", ascending=False))\n",
        "print()\n",
        "print(\"D:\")\n",
        "print(\"Region with highest std of Age:\")\n",
        "print(bank_df.groupby(\"region\")[\"age\"].std().reset_index().sort_values(\"age\", ascending=False).iloc[0])\n",
        "print(\"This means that the difference between ages is generaly greater in surbabn regions\")\n",
        "print()\n",
        "\n",
        "with_sav_acct = bank_df.groupby(\"savings_acct\")[\"income\"].mean().reset_index().iloc[1]\n",
        "withot_sav_acct = bank_df.groupby(\"savings_acct\")[\"income\"].mean().reset_index().iloc[0]\n",
        "print(\"E:\")\n",
        "print(\"the difference in average income between people who have a savings account and those who don't is \" + str(with_sav_acct.income - withot_sav_acct.income))\n",
        "# average_with_savings = bank_df.groupby(\"save_acct\")[\"income\"].std().reset_index().sort_values(\"age\", ascending=False).iloc[0]\n",
        "# average_without_savings = \n",
        "print()\n",
        "print(\"F:\")\n",
        "# tempVari = bank_df.groupby(\"pep\").mean(numeric_only=None)\n",
        "print(bank_df.groupby(\"pep\").mean())\n",
        "print(\"Those with a PEP are typically older, have a higher income, and have less kids on average\")\n",
        "\n",
        "\n"
      ],
      "metadata": {
        "colab": {
          "base_uri": "https://localhost:8080/"
        },
        "id": "RVnKKNoHUt1o",
        "outputId": "ba046ab1-812a-42f8-bfec-6b5862ec3e7e"
      },
      "execution_count": 3,
      "outputs": [
        {
          "output_type": "stream",
          "name": "stdout",
          "text": [
            "5*****\n",
            "A:\n",
            "The min, max, and average age are: 67, 18, and 42.395\n",
            "The min, max, and average income are: 63130.1, 5014.21, and 27524.031216666666\n",
            "The min, max, and average children are: 63130.1, 5014.21, and 27524.031216666666\n",
            "\n",
            "B: \n",
            "600 customers have a car\n",
            "\n",
            "C:\n",
            "       region  children\n",
            "1       RURAL  1.229167\n",
            "3        TOWN  1.000000\n",
            "2    SUBURBAN  0.967742\n",
            "0  INNER_CITY  0.951673\n",
            "\n",
            "D:\n",
            "Region with highest std of Age:\n",
            "region     SUBURBAN\n",
            "age       15.222039\n",
            "Name: 2, dtype: object\n",
            "This means that the difference between ages is generaly greater in surbabn regions\n",
            "\n",
            "E:\n",
            "the difference in average income between people who have a savings account and those who don't is 7417.437714664175\n",
            "\n",
            "F:\n",
            "           age        income  children\n",
            "pep                                   \n",
            "NO   40.098160  24900.953374  1.067485\n",
            "YES  45.127737  30644.919453  0.945255\n",
            "Those with a PEP are typically older, have a higher income, and have less kids on average\n"
          ]
        }
      ]
    },
    {
      "cell_type": "code",
      "source": [
        "income_std = bank_df[\"income\"].copy()\n",
        "\n",
        "# z score values\n",
        "for col in range(len(income_std)):\n",
        "  income_std[col] = (income_std[col] - income_std.mean())/income_std.std(ddof=0)\n",
        "\n",
        "print(\"6*****\")\n",
        "print(\"The mean of the normalized income attribute is\", income_std.mean(), \"\\nand the standard of deviation is\", income_std.std(),\".\")\n",
        "print(\"This is because the values have been adjusted to represent their distance from the mean.\")"
      ],
      "metadata": {
        "colab": {
          "base_uri": "https://localhost:8080/"
        },
        "id": "zX4X9McBcpFd",
        "outputId": "a849c819-b883-4ba5-b1bf-05ddaf97f3e1"
      },
      "execution_count": 4,
      "outputs": [
        {
          "output_type": "stream",
          "name": "stdout",
          "text": [
            "6*****\n",
            "The mean of the normalized income attribute is 1.3222131122304375 \n",
            "and the standard of deviation is 2.1560216513558137 .\n",
            "This is because the values have been adjusted to represent their distance from the mean.\n"
          ]
        }
      ]
    },
    {
      "cell_type": "code",
      "source": [
        "# 7: Discretize age\n",
        "age_disc = bank_df[\"age\"].copy()\n",
        "cut_labels_4 = ['young', 'middle age', 'old']\n",
        "cut_bins = [0, 27, 62, 1000]\n",
        "age_disc = pd.cut(age_disc, bins=cut_bins, labels=cut_labels_4)\n",
        "print(\"7****\")\n",
        "print(age_disc.value_counts())"
      ],
      "metadata": {
        "colab": {
          "base_uri": "https://localhost:8080/"
        },
        "id": "93i5XJnOkkGt",
        "outputId": "f1db0b2b-adb7-4026-bf30-c83bdf313374"
      },
      "execution_count": 5,
      "outputs": [
        {
          "output_type": "stream",
          "name": "stdout",
          "text": [
            "7****\n",
            "middle age    406\n",
            "young         126\n",
            "old            68\n",
            "Name: age, dtype: int64\n"
          ]
        }
      ]
    },
    {
      "cell_type": "code",
      "source": [
        "# 8: Min Max\n",
        "# bank_norm = bank_df[[\"income\", \"age\", \"children\"]].copy()\n",
        "# print(bank_df.dtypes)\n",
        "bank_norm = bank_df.copy()\n",
        "\n",
        "# min - max data\n",
        "for column in bank_norm.columns:\n",
        "  if (column == \"age\" or column == \"income\" or column == \"children\"):\n",
        "    bank_norm[column] = (bank_norm[column] - bank_norm[column].min()) / (bank_norm[column].max() - bank_norm[column].min()) \n",
        "print(\"8*****\")\n",
        "print(\"The mean of the normalized income attribute is:\\n\\n\", bank_norm.mean(), \"\\nand the standard of deviation is:\\n\\n\", bank_norm.std())\n",
        "print()\n",
        "print(\"These values are different form z-score norm because these the values\\n were normalized according to the min and max values opposed\\n to the mean\")"
      ],
      "metadata": {
        "colab": {
          "base_uri": "https://localhost:8080/"
        },
        "id": "036tbZWNoz6D",
        "outputId": "47f2c1dd-9f74-49d4-9be7-d835b761265d"
      },
      "execution_count": 6,
      "outputs": [
        {
          "output_type": "stream",
          "name": "stdout",
          "text": [
            "8*****\n",
            "The mean of the normalized income attribute is:\n",
            "\n",
            " age         0.497857\n",
            "income      0.387326\n",
            "children    0.337222\n",
            "dtype: float64 \n",
            "and the standard of deviation is:\n",
            "\n",
            " age         0.294387\n",
            "income      0.221961\n",
            "children    0.352251\n",
            "dtype: float64\n",
            "\n",
            "These values are different form z-score norm because these the values\n",
            " were normalized according to the min and max values opposed\n",
            " to the mean\n"
          ]
        },
        {
          "output_type": "stream",
          "name": "stderr",
          "text": [
            "/usr/local/lib/python3.7/dist-packages/ipykernel_launcher.py:11: FutureWarning: Dropping of nuisance columns in DataFrame reductions (with 'numeric_only=None') is deprecated; in a future version this will raise TypeError.  Select only valid columns before calling the reduction.\n",
            "  # This is added back by InteractiveShellApp.init_path()\n"
          ]
        }
      ]
    },
    {
      "cell_type": "code",
      "source": [
        "#9: \n",
        "bank_norm = bank_norm.iloc[:, 1:]\n",
        "bank_norm = pd.get_dummies(bank_norm)\n",
        "print(\"9*****\")\n",
        "print(bank_norm)"
      ],
      "metadata": {
        "colab": {
          "base_uri": "https://localhost:8080/"
        },
        "id": "XS93j_Tgr6pv",
        "outputId": "5781db37-ac62-4930-cbc9-4f2017125ee8"
      },
      "execution_count": 7,
      "outputs": [
        {
          "output_type": "stream",
          "name": "stdout",
          "text": [
            "9*****\n",
            "          age    income  children  gender_FEMALE  gender_MALE  \\\n",
            "0    0.612245  0.215634  0.333333              1            0   \n",
            "1    0.448980  0.431395  1.000000              0            1   \n",
            "2    0.673469  0.198933  0.000000              1            0   \n",
            "3    0.102041  0.264320  1.000000              1            0   \n",
            "4    0.795918  0.783987  0.000000              1            0   \n",
            "..        ...       ...       ...            ...          ...   \n",
            "595  0.877551  0.722880  0.666667              1            0   \n",
            "596  0.244898  0.080151  0.000000              1            0   \n",
            "597  0.265306  0.188625  0.000000              1            0   \n",
            "598  0.224490  0.166866  0.000000              0            1   \n",
            "599  0.408163  0.372659  0.000000              0            1   \n",
            "\n",
            "     region_INNER_CITY  region_RURAL  region_SUBURBAN  region_TOWN  \\\n",
            "0                    1             0                0            0   \n",
            "1                    0             0                0            1   \n",
            "2                    1             0                0            0   \n",
            "3                    0             0                0            1   \n",
            "4                    0             1                0            0   \n",
            "..                 ...           ...              ...          ...   \n",
            "595                  1             0                0            0   \n",
            "596                  1             0                0            0   \n",
            "597                  0             0                0            1   \n",
            "598                  1             0                0            0   \n",
            "599                  0             0                0            1   \n",
            "\n",
            "     married_NO  ...  car_NO  car_YES  savings_acct_NO  savings_acct_YES  \\\n",
            "0             1  ...       1        0                1                 0   \n",
            "1             0  ...       0        1                1                 0   \n",
            "2             0  ...       0        1                0                 1   \n",
            "3             0  ...       1        0                1                 0   \n",
            "4             0  ...       1        0                0                 1   \n",
            "..          ...  ...     ...      ...              ...               ...   \n",
            "595           1  ...       0        1                0                 1   \n",
            "596           0  ...       0        1                0                 1   \n",
            "597           0  ...       0        1                0                 1   \n",
            "598           0  ...       1        0                0                 1   \n",
            "599           1  ...       0        1                1                 0   \n",
            "\n",
            "     current_acct_NO  current_acct_YES  mortgage_NO  mortgage_YES  pep_NO  \\\n",
            "0                  1                 0            1             0       0   \n",
            "1                  0                 1            0             1       1   \n",
            "2                  0                 1            1             0       1   \n",
            "3                  0                 1            1             0       1   \n",
            "4                  1                 0            1             0       1   \n",
            "..               ...               ...          ...           ...     ...   \n",
            "595                0                 1            0             1       1   \n",
            "596                0                 1            1             0       1   \n",
            "597                1                 0            1             0       0   \n",
            "598                1                 0            0             1       1   \n",
            "599                0                 1            0             1       0   \n",
            "\n",
            "     pep_YES  \n",
            "0          1  \n",
            "1          0  \n",
            "2          0  \n",
            "3          0  \n",
            "4          0  \n",
            "..       ...  \n",
            "595        0  \n",
            "596        0  \n",
            "597        1  \n",
            "598        0  \n",
            "599        1  \n",
            "\n",
            "[600 rows x 21 columns]\n"
          ]
        }
      ]
    },
    {
      "cell_type": "code",
      "source": [
        "#10\n",
        "import seaborn as sns\n",
        "\n",
        "# bank_norm.corr(method=histogram_intersection)\n",
        "corr = bank_norm.corr()\n",
        "\n",
        "# plot the heatmap\n",
        "sns.heatmap(corr, \n",
        "        xticklabels=corr.columns,\n",
        "        yticklabels=corr.columns)"
      ],
      "metadata": {
        "colab": {
          "base_uri": "https://localhost:8080/",
          "height": 372
        },
        "id": "X98nEfuPxZyX",
        "outputId": "42552d1a-a615-4239-efe6-20c6d93e9929"
      },
      "execution_count": 8,
      "outputs": [
        {
          "output_type": "execute_result",
          "data": {
            "text/plain": [
              "<matplotlib.axes._subplots.AxesSubplot at 0x7f298eb60ad0>"
            ]
          },
          "metadata": {},
          "execution_count": 8
        },
        {
          "output_type": "display_data",
          "data": {
            "text/plain": [
              "<Figure size 432x288 with 2 Axes>"
            ],
            "image/png": "[encoded data removed]"
          },
          "metadata": {
            "needs_background": "light"
          }
        }
      ]
    },
    {
      "cell_type": "markdown",
      "source": [
        "Age and children along with age and income seem to be positively correlated. "
      ],
      "metadata": {
        "id": "NBQrMoXhygGY"
      }
    }
  ]
}